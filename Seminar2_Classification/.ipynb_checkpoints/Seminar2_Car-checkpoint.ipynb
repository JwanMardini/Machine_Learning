{
 "cells": [
  {
   "cell_type": "code",
   "execution_count": 2,
   "metadata": {
    "id": "uxCi0JUXQcYB"
   },
   "outputs": [],
   "source": [
    "import pandas as pd"
   ]
  },
  {
   "cell_type": "code",
   "execution_count": 3,
   "metadata": {
    "id": "tIdqope3QzUl"
   },
   "outputs": [],
   "source": [
    "df = pd.read_csv(\"ALL_CARS_DATA.csv\")"
   ]
  },
  {
   "cell_type": "code",
   "execution_count": 4,
   "metadata": {},
   "outputs": [
    {
     "data": {
      "text/html": [
       "<div>\n",
       "<style scoped>\n",
       "    .dataframe tbody tr th:only-of-type {\n",
       "        vertical-align: middle;\n",
       "    }\n",
       "\n",
       "    .dataframe tbody tr th {\n",
       "        vertical-align: top;\n",
       "    }\n",
       "\n",
       "    .dataframe thead th {\n",
       "        text-align: right;\n",
       "    }\n",
       "</style>\n",
       "<table border=\"1\" class=\"dataframe\">\n",
       "  <thead>\n",
       "    <tr style=\"text-align: right;\">\n",
       "      <th></th>\n",
       "      <th>CAR ID</th>\n",
       "      <th>PARENT COMPANY</th>\n",
       "      <th>MAKE ORIGIN</th>\n",
       "      <th>BRAND</th>\n",
       "      <th>MODEL/CLASS</th>\n",
       "      <th>CAR NAME</th>\n",
       "      <th>MODEL</th>\n",
       "      <th>CAR TYPE</th>\n",
       "      <th>IMAGE</th>\n",
       "      <th>PRICE RANGE</th>\n",
       "      <th>PRICE($)</th>\n",
       "      <th>AGE OF CAR</th>\n",
       "      <th>STOCK TYPE</th>\n",
       "      <th>MILEAGE</th>\n",
       "      <th>RATING</th>\n",
       "      <th>REVIEW</th>\n",
       "      <th>DEALER NAME</th>\n",
       "      <th>DEALER LOCATION (CITY)</th>\n",
       "      <th>DEALER LOCATION (STATE)</th>\n",
       "    </tr>\n",
       "  </thead>\n",
       "  <tbody>\n",
       "    <tr>\n",
       "      <th>0</th>\n",
       "      <td>crossover1</td>\n",
       "      <td>General Motors</td>\n",
       "      <td>USA</td>\n",
       "      <td>Chevrolet</td>\n",
       "      <td>Traverse LT</td>\n",
       "      <td>Chevrolet Traverse LT</td>\n",
       "      <td>2024</td>\n",
       "      <td>crossover</td>\n",
       "      <td>https://www.cars.com/i/large/in/v2/fe8df1b1-43...</td>\n",
       "      <td>High</td>\n",
       "      <td>41170.0</td>\n",
       "      <td>0</td>\n",
       "      <td>New</td>\n",
       "      <td>0.0</td>\n",
       "      <td>4.0</td>\n",
       "      <td>992.0</td>\n",
       "      <td>Napleton Downtown Chevrolet Buick GMC</td>\n",
       "      <td>Chicago</td>\n",
       "      <td>Illinois</td>\n",
       "    </tr>\n",
       "    <tr>\n",
       "      <th>1</th>\n",
       "      <td>crossover2</td>\n",
       "      <td>General Motors</td>\n",
       "      <td>USA</td>\n",
       "      <td>Chevrolet</td>\n",
       "      <td>Traverse LT</td>\n",
       "      <td>Chevrolet Traverse LT</td>\n",
       "      <td>2024</td>\n",
       "      <td>crossover</td>\n",
       "      <td>https://www.cars.com/i/large/in/v2/110522e7-fa...</td>\n",
       "      <td>High</td>\n",
       "      <td>42540.0</td>\n",
       "      <td>0</td>\n",
       "      <td>New</td>\n",
       "      <td>0.0</td>\n",
       "      <td>4.6</td>\n",
       "      <td>470.0</td>\n",
       "      <td>Chevrolet of Homewood</td>\n",
       "      <td>Homewood</td>\n",
       "      <td>Illinois</td>\n",
       "    </tr>\n",
       "    <tr>\n",
       "      <th>2</th>\n",
       "      <td>crossover3</td>\n",
       "      <td>General Motors</td>\n",
       "      <td>USA</td>\n",
       "      <td>Chevrolet</td>\n",
       "      <td>Traverse LS</td>\n",
       "      <td>Chevrolet Traverse LS</td>\n",
       "      <td>2024</td>\n",
       "      <td>crossover</td>\n",
       "      <td>https://www.cars.com/i/large/in/v2/e1302f10-28...</td>\n",
       "      <td>High</td>\n",
       "      <td>37810.0</td>\n",
       "      <td>0</td>\n",
       "      <td>New</td>\n",
       "      <td>0.0</td>\n",
       "      <td>4.6</td>\n",
       "      <td>2514.0</td>\n",
       "      <td>Chevrolet of Naperville</td>\n",
       "      <td>Naperville</td>\n",
       "      <td>Illinois</td>\n",
       "    </tr>\n",
       "    <tr>\n",
       "      <th>3</th>\n",
       "      <td>crossover4</td>\n",
       "      <td>General Motors</td>\n",
       "      <td>USA</td>\n",
       "      <td>Chevrolet</td>\n",
       "      <td>Traverse 2LT</td>\n",
       "      <td>Chevrolet Traverse 2LT</td>\n",
       "      <td>2015</td>\n",
       "      <td>crossover</td>\n",
       "      <td>https://www.cars.com/i/large/in/v2/0d65dc66-cf...</td>\n",
       "      <td>Low</td>\n",
       "      <td>8995.0</td>\n",
       "      <td>9</td>\n",
       "      <td>Used</td>\n",
       "      <td>156612.0</td>\n",
       "      <td>4.9</td>\n",
       "      <td>713.0</td>\n",
       "      <td>Marquardt of Barrington Buick-GMC</td>\n",
       "      <td>Barrington</td>\n",
       "      <td>Illinois</td>\n",
       "    </tr>\n",
       "    <tr>\n",
       "      <th>4</th>\n",
       "      <td>crossover5</td>\n",
       "      <td>General Motors</td>\n",
       "      <td>USA</td>\n",
       "      <td>Chevrolet</td>\n",
       "      <td>Traverse 2LT</td>\n",
       "      <td>Chevrolet Traverse 2LT</td>\n",
       "      <td>2016</td>\n",
       "      <td>crossover</td>\n",
       "      <td>https://www.cars.com/i/large/in/v2/bc287cf4-30...</td>\n",
       "      <td>Low</td>\n",
       "      <td>12795.0</td>\n",
       "      <td>8</td>\n",
       "      <td>Used</td>\n",
       "      <td>95852.0</td>\n",
       "      <td>4.7</td>\n",
       "      <td>135.0</td>\n",
       "      <td>Jeff Perry Buick GMC</td>\n",
       "      <td>Peru</td>\n",
       "      <td>Illinois</td>\n",
       "    </tr>\n",
       "  </tbody>\n",
       "</table>\n",
       "</div>"
      ],
      "text/plain": [
       "       CAR ID  PARENT COMPANY MAKE ORIGIN      BRAND   MODEL/CLASS  \\\n",
       "0  crossover1  General Motors         USA  Chevrolet   Traverse LT   \n",
       "1  crossover2  General Motors         USA  Chevrolet   Traverse LT   \n",
       "2  crossover3  General Motors         USA  Chevrolet   Traverse LS   \n",
       "3  crossover4  General Motors         USA  Chevrolet  Traverse 2LT   \n",
       "4  crossover5  General Motors         USA  Chevrolet  Traverse 2LT   \n",
       "\n",
       "                 CAR NAME  MODEL   CAR TYPE  \\\n",
       "0   Chevrolet Traverse LT   2024  crossover   \n",
       "1   Chevrolet Traverse LT   2024  crossover   \n",
       "2   Chevrolet Traverse LS   2024  crossover   \n",
       "3  Chevrolet Traverse 2LT   2015  crossover   \n",
       "4  Chevrolet Traverse 2LT   2016  crossover   \n",
       "\n",
       "                                               IMAGE PRICE RANGE  PRICE($)  \\\n",
       "0  https://www.cars.com/i/large/in/v2/fe8df1b1-43...        High   41170.0   \n",
       "1  https://www.cars.com/i/large/in/v2/110522e7-fa...        High   42540.0   \n",
       "2  https://www.cars.com/i/large/in/v2/e1302f10-28...        High   37810.0   \n",
       "3  https://www.cars.com/i/large/in/v2/0d65dc66-cf...         Low    8995.0   \n",
       "4  https://www.cars.com/i/large/in/v2/bc287cf4-30...         Low   12795.0   \n",
       "\n",
       "   AGE OF CAR STOCK TYPE   MILEAGE  RATING  REVIEW  \\\n",
       "0           0        New       0.0     4.0   992.0   \n",
       "1           0        New       0.0     4.6   470.0   \n",
       "2           0        New       0.0     4.6  2514.0   \n",
       "3           9       Used  156612.0     4.9   713.0   \n",
       "4           8       Used   95852.0     4.7   135.0   \n",
       "\n",
       "                             DEALER NAME DEALER LOCATION (CITY)  \\\n",
       "0  Napleton Downtown Chevrolet Buick GMC                Chicago   \n",
       "1                  Chevrolet of Homewood               Homewood   \n",
       "2                Chevrolet of Naperville             Naperville   \n",
       "3      Marquardt of Barrington Buick-GMC             Barrington   \n",
       "4                   Jeff Perry Buick GMC                   Peru   \n",
       "\n",
       "  DEALER LOCATION (STATE)  \n",
       "0                Illinois  \n",
       "1                Illinois  \n",
       "2                Illinois  \n",
       "3                Illinois  \n",
       "4                Illinois  "
      ]
     },
     "execution_count": 4,
     "metadata": {},
     "output_type": "execute_result"
    }
   ],
   "source": [
    "df.head()"
   ]
  },
  {
   "cell_type": "code",
   "execution_count": 5,
   "metadata": {
    "colab": {
     "base_uri": "https://localhost:8080/"
    },
    "id": "ATCW4U46Q_7L",
    "outputId": "5e2be2bf-3199-455d-a771-103b98eaee9b"
   },
   "outputs": [
    {
     "name": "stdout",
     "output_type": "stream",
     "text": [
      "<class 'pandas.core.frame.DataFrame'>\n",
      "RangeIndex: 266847 entries, 0 to 266846\n",
      "Data columns (total 19 columns):\n",
      " #   Column                   Non-Null Count   Dtype  \n",
      "---  ------                   --------------   -----  \n",
      " 0   CAR ID                   266847 non-null  object \n",
      " 1   PARENT COMPANY           266847 non-null  object \n",
      " 2   MAKE ORIGIN              266847 non-null  object \n",
      " 3   BRAND                    266847 non-null  object \n",
      " 4   MODEL/CLASS              266847 non-null  object \n",
      " 5   CAR NAME                 266847 non-null  object \n",
      " 6   MODEL                    266847 non-null  int64  \n",
      " 7   CAR TYPE                 266847 non-null  object \n",
      " 8   IMAGE                    266847 non-null  object \n",
      " 9   PRICE RANGE              266846 non-null  object \n",
      " 10  PRICE($)                 266847 non-null  float64\n",
      " 11  AGE OF CAR               266847 non-null  int64  \n",
      " 12  STOCK TYPE               266847 non-null  object \n",
      " 13  MILEAGE                  266846 non-null  float64\n",
      " 14  RATING                   266847 non-null  float64\n",
      " 15  REVIEW                   266847 non-null  float64\n",
      " 16  DEALER NAME              266390 non-null  object \n",
      " 17  DEALER LOCATION (CITY)   266846 non-null  object \n",
      " 18  DEALER LOCATION (STATE)  266714 non-null  object \n",
      "dtypes: float64(4), int64(2), object(13)\n",
      "memory usage: 38.7+ MB\n"
     ]
    }
   ],
   "source": [
    "df.info()"
   ]
  },
  {
   "cell_type": "code",
   "execution_count": 6,
   "metadata": {
    "colab": {
     "base_uri": "https://localhost:8080/",
     "height": 241
    },
    "id": "QmFm1ua-RLXS",
    "outputId": "28587c51-6a39-4cf4-a84a-54513ee5045e"
   },
   "outputs": [
    {
     "data": {
      "text/plain": [
       "PRICE RANGE\n",
       "Luxury    71038\n",
       "High      66750\n",
       "Medium    65784\n",
       "Low       63274\n",
       "Name: count, dtype: int64"
      ]
     },
     "execution_count": 6,
     "metadata": {},
     "output_type": "execute_result"
    }
   ],
   "source": [
    "df[\"PRICE RANGE\"].value_counts()"
   ]
  },
  {
   "cell_type": "code",
   "execution_count": 7,
   "metadata": {
    "colab": {
     "base_uri": "https://localhost:8080/",
     "height": 472
    },
    "id": "VkO7Vg9JZRxW",
    "outputId": "0de88317-f494-4e57-8a2c-32baa35cf040"
   },
   "outputs": [
    {
     "data": {
      "image/png": "[encoded data removed]",
      "text/plain": [
       "<Figure size 640x480 with 1 Axes>"
      ]
     },
     "metadata": {},
     "output_type": "display_data"
    }
   ],
   "source": [
    "import seaborn as sns\n",
    "import matplotlib.pyplot as plt\n",
    "\n",
    "# Price Range distribution\n",
    "sns.countplot(x='PRICE RANGE', data=df)\n",
    "plt.title('Distribution of Price Range')\n",
    "plt.show()"
   ]
  },
  {
   "cell_type": "code",
   "execution_count": 9,
   "metadata": {},
   "outputs": [
    {
     "data": {
      "image/png": "[encoded data removed]",
      "text/plain": [
       "<Figure size 1000x600 with 1 Axes>"
      ]
     },
     "metadata": {},
     "output_type": "display_data"
    }
   ],
   "source": [
    "plt.figure(figsize=(10, 6))\n",
    "sns.scatterplot(data=df, x='MILEAGE', y='PRICE($)', hue='PRICE RANGE')\n",
    "plt.title('Mileage vs. Price')\n",
    "plt.xlabel('Mileage (miles)')\n",
    "plt.ylabel('Price ($)')\n",
    "plt.legend(title='Price Range')\n",
    "plt.show()\n"
   ]
  },
  {
   "cell_type": "code",
   "execution_count": 10,
   "metadata": {},
   "outputs": [
    {
     "data": {
      "image/png": "[encoded data removed]",
      "text/plain": [
       "<Figure size 1000x600 with 1 Axes>"
      ]
     },
     "metadata": {},
     "output_type": "display_data"
    }
   ],
   "source": [
    "plt.figure(figsize=(10, 6))\n",
    "sns.barplot(data=df, x='PRICE RANGE', y='RATING')\n",
    "plt.title('Average Rating by Price Range')\n",
    "plt.xlabel('Price Range')\n",
    "plt.ylabel('Average Rating')\n",
    "plt.xticks(ticks=[0, 1, 2, 3], labels=['Luxury','High', 'Medium', 'Low'])  # Adjust labels if needed\n",
    "plt.show()\n"
   ]
  },
  {
   "cell_type": "code",
   "execution_count": 12,
   "metadata": {
    "colab": {
     "base_uri": "https://localhost:8080/",
     "height": 680
    },
    "id": "d0DnhSbSRUgZ",
    "outputId": "918f7345-4714-4283-c693-6a6dbcb00a2c"
   },
   "outputs": [
    {
     "data": {
      "text/plain": [
       "CAR ID                      object\n",
       "PARENT COMPANY              object\n",
       "MAKE ORIGIN                 object\n",
       "BRAND                       object\n",
       "MODEL/CLASS                 object\n",
       "CAR NAME                    object\n",
       "MODEL                        int64\n",
       "CAR TYPE                    object\n",
       "IMAGE                       object\n",
       "PRICE RANGE                 object\n",
       "PRICE($)                   float64\n",
       "AGE OF CAR                   int64\n",
       "STOCK TYPE                  object\n",
       "MILEAGE                    float64\n",
       "RATING                     float64\n",
       "REVIEW                     float64\n",
       "DEALER NAME                 object\n",
       "DEALER LOCATION (CITY)      object\n",
       "DEALER LOCATION (STATE)     object\n",
       "dtype: object"
      ]
     },
     "execution_count": 12,
     "metadata": {},
     "output_type": "execute_result"
    }
   ],
   "source": [
    "df.dtypes"
   ]
  },
  {
   "cell_type": "code",
   "execution_count": 13,
   "metadata": {
    "id": "CQ8A368BRuuO"
   },
   "outputs": [],
   "source": [
    "colmuns_to_remove = [\"CAR ID\", \"IMAGE\", \"DEALER NAME\", \"PARENT COMPANY\",\"DEALER LOCATION (STATE)\",\"DEALER LOCATION (CITY)\", \"CAR NAME\"]\n",
    "df.drop(columns=colmuns_to_remove, axis=1, inplace=True)"
   ]
  },
  {
   "cell_type": "code",
   "execution_count": 14,
   "metadata": {
    "colab": {
     "base_uri": "https://localhost:8080/",
     "height": 206
    },
    "id": "KO5oY7GYVs_l",
    "outputId": "031862ec-c9af-4d8d-fdbb-343a17e1c890"
   },
   "outputs": [
    {
     "data": {
      "text/html": [
       "<div>\n",
       "<style scoped>\n",
       "    .dataframe tbody tr th:only-of-type {\n",
       "        vertical-align: middle;\n",
       "    }\n",
       "\n",
       "    .dataframe tbody tr th {\n",
       "        vertical-align: top;\n",
       "    }\n",
       "\n",
       "    .dataframe thead th {\n",
       "        text-align: right;\n",
       "    }\n",
       "</style>\n",
       "<table border=\"1\" class=\"dataframe\">\n",
       "  <thead>\n",
       "    <tr style=\"text-align: right;\">\n",
       "      <th></th>\n",
       "      <th>MAKE ORIGIN</th>\n",
       "      <th>BRAND</th>\n",
       "      <th>MODEL/CLASS</th>\n",
       "      <th>MODEL</th>\n",
       "      <th>CAR TYPE</th>\n",
       "      <th>PRICE RANGE</th>\n",
       "      <th>PRICE($)</th>\n",
       "      <th>AGE OF CAR</th>\n",
       "      <th>STOCK TYPE</th>\n",
       "      <th>MILEAGE</th>\n",
       "      <th>RATING</th>\n",
       "      <th>REVIEW</th>\n",
       "    </tr>\n",
       "  </thead>\n",
       "  <tbody>\n",
       "    <tr>\n",
       "      <th>0</th>\n",
       "      <td>USA</td>\n",
       "      <td>Chevrolet</td>\n",
       "      <td>Traverse LT</td>\n",
       "      <td>2024</td>\n",
       "      <td>crossover</td>\n",
       "      <td>High</td>\n",
       "      <td>41170.0</td>\n",
       "      <td>0</td>\n",
       "      <td>New</td>\n",
       "      <td>0.0</td>\n",
       "      <td>4.0</td>\n",
       "      <td>992.0</td>\n",
       "    </tr>\n",
       "    <tr>\n",
       "      <th>1</th>\n",
       "      <td>USA</td>\n",
       "      <td>Chevrolet</td>\n",
       "      <td>Traverse LT</td>\n",
       "      <td>2024</td>\n",
       "      <td>crossover</td>\n",
       "      <td>High</td>\n",
       "      <td>42540.0</td>\n",
       "      <td>0</td>\n",
       "      <td>New</td>\n",
       "      <td>0.0</td>\n",
       "      <td>4.6</td>\n",
       "      <td>470.0</td>\n",
       "    </tr>\n",
       "    <tr>\n",
       "      <th>2</th>\n",
       "      <td>USA</td>\n",
       "      <td>Chevrolet</td>\n",
       "      <td>Traverse LS</td>\n",
       "      <td>2024</td>\n",
       "      <td>crossover</td>\n",
       "      <td>High</td>\n",
       "      <td>37810.0</td>\n",
       "      <td>0</td>\n",
       "      <td>New</td>\n",
       "      <td>0.0</td>\n",
       "      <td>4.6</td>\n",
       "      <td>2514.0</td>\n",
       "    </tr>\n",
       "    <tr>\n",
       "      <th>3</th>\n",
       "      <td>USA</td>\n",
       "      <td>Chevrolet</td>\n",
       "      <td>Traverse 2LT</td>\n",
       "      <td>2015</td>\n",
       "      <td>crossover</td>\n",
       "      <td>Low</td>\n",
       "      <td>8995.0</td>\n",
       "      <td>9</td>\n",
       "      <td>Used</td>\n",
       "      <td>156612.0</td>\n",
       "      <td>4.9</td>\n",
       "      <td>713.0</td>\n",
       "    </tr>\n",
       "    <tr>\n",
       "      <th>4</th>\n",
       "      <td>USA</td>\n",
       "      <td>Chevrolet</td>\n",
       "      <td>Traverse 2LT</td>\n",
       "      <td>2016</td>\n",
       "      <td>crossover</td>\n",
       "      <td>Low</td>\n",
       "      <td>12795.0</td>\n",
       "      <td>8</td>\n",
       "      <td>Used</td>\n",
       "      <td>95852.0</td>\n",
       "      <td>4.7</td>\n",
       "      <td>135.0</td>\n",
       "    </tr>\n",
       "  </tbody>\n",
       "</table>\n",
       "</div>"
      ],
      "text/plain": [
       "  MAKE ORIGIN      BRAND   MODEL/CLASS  MODEL   CAR TYPE PRICE RANGE  \\\n",
       "0         USA  Chevrolet   Traverse LT   2024  crossover        High   \n",
       "1         USA  Chevrolet   Traverse LT   2024  crossover        High   \n",
       "2         USA  Chevrolet   Traverse LS   2024  crossover        High   \n",
       "3         USA  Chevrolet  Traverse 2LT   2015  crossover         Low   \n",
       "4         USA  Chevrolet  Traverse 2LT   2016  crossover         Low   \n",
       "\n",
       "   PRICE($)  AGE OF CAR STOCK TYPE   MILEAGE  RATING  REVIEW  \n",
       "0   41170.0           0        New       0.0     4.0   992.0  \n",
       "1   42540.0           0        New       0.0     4.6   470.0  \n",
       "2   37810.0           0        New       0.0     4.6  2514.0  \n",
       "3    8995.0           9       Used  156612.0     4.9   713.0  \n",
       "4   12795.0           8       Used   95852.0     4.7   135.0  "
      ]
     },
     "execution_count": 14,
     "metadata": {},
     "output_type": "execute_result"
    }
   ],
   "source": [
    "df.head()"
   ]
  },
  {
   "cell_type": "code",
   "execution_count": 15,
   "metadata": {
    "id": "lcPXUHm_b03Z"
   },
   "outputs": [],
   "source": [
    "from sklearn.preprocessing import LabelEncoder\n",
    "\n",
    "# Label Encoding for 'PRICE RANGE'\n",
    "label_encoder = LabelEncoder()\n",
    "df['PRICE RANGE'] = label_encoder.fit_transform(df['PRICE RANGE'])"
   ]
  },
  {
   "cell_type": "code",
   "execution_count": 16,
   "metadata": {},
   "outputs": [
    {
     "name": "stdout",
     "output_type": "stream",
     "text": [
      "<class 'pandas.core.frame.DataFrame'>\n",
      "RangeIndex: 266847 entries, 0 to 266846\n",
      "Data columns (total 12 columns):\n",
      " #   Column       Non-Null Count   Dtype  \n",
      "---  ------       --------------   -----  \n",
      " 0   MAKE ORIGIN  266847 non-null  object \n",
      " 1   BRAND        266847 non-null  object \n",
      " 2   MODEL/CLASS  266847 non-null  object \n",
      " 3   MODEL        266847 non-null  int64  \n",
      " 4   CAR TYPE     266847 non-null  object \n",
      " 5   PRICE RANGE  266847 non-null  int64  \n",
      " 6   PRICE($)     266847 non-null  float64\n",
      " 7   AGE OF CAR   266847 non-null  int64  \n",
      " 8   STOCK TYPE   266847 non-null  object \n",
      " 9   MILEAGE      266846 non-null  float64\n",
      " 10  RATING       266847 non-null  float64\n",
      " 11  REVIEW       266847 non-null  float64\n",
      "dtypes: float64(4), int64(3), object(5)\n",
      "memory usage: 24.4+ MB\n"
     ]
    }
   ],
   "source": [
    "df.info()"
   ]
  },
  {
   "cell_type": "code",
   "execution_count": 17,
   "metadata": {},
   "outputs": [],
   "source": [
    "from sklearn.impute import SimpleImputer\n",
    "\n",
    "# Create a SimpleImputer object with the mean strategy\n",
    "imputer = SimpleImputer(strategy='mean')\n",
    "\n",
    "# Fit and transform the 'mileage' column\n",
    "df['MILEAGE'] = imputer.fit_transform(df[['MILEAGE']])"
   ]
  },
  {
   "cell_type": "code",
   "execution_count": 18,
   "metadata": {},
   "outputs": [],
   "source": [
    "df[\"AGE OF CAR\"]= df[\"AGE OF CAR\"].apply(lambda x: 0 if x < 0 else x)\n",
    "\n",
    "df[\"REVIEW\"]= df[\"REVIEW\"].apply(lambda x: 0 if x < 0 else x)\n",
    "\n",
    "df[\"RATING\"]= df[\"RATING\"].apply(lambda x: 0 if x < 0 else x)"
   ]
  },
  {
   "cell_type": "code",
   "execution_count": 106,
   "metadata": {},
   "outputs": [],
   "source": [
    "import numpy as np\n",
    "\n",
    "def plot_feature_importance(model, X_train, X_test, y_test, model_name, top_n=None):\n",
    "    \"\"\"\n",
    "    Function to compute and plot feature importance for both tree-based models (Random Forest, Decision Tree)\n",
    "    and permutation importance for model-agnostic methods (like KNN).\n",
    "\n",
    "    Parameters:\n",
    "    - model: Trained model (RandomForestClassifier, DecisionTreeClassifier, KNeighborsClassifier).\n",
    "    - X_train: Training data features (Pandas DataFrame).\n",
    "    - X_test: Test data features (Pandas DataFrame).\n",
    "    - y_test: Test data target (Pandas Series).\n",
    "    - model_type: Type of model, \"tree\" for tree-based models (Random Forest, Decision Tree), \n",
    "                  \"permutation\" for KNN or any other model.\n",
    "    - top_n: (Optional) Number of top features to display. If None, all features will be displayed.\n",
    "\n",
    "    Returns:\n",
    "    - Feature ranking and plot.\n",
    "    \"\"\"\n",
    "    importances = model.feature_importances_\n",
    "    feature_names = X_train.columns\n",
    "    sorted_idx = np.argsort(importances)[::-1]\n",
    "\n",
    "    # If top_n is specified, select the top N features\n",
    "    if top_n:\n",
    "        sorted_idx = sorted_idx[:top_n]\n",
    "\n",
    "    # Print feature ranking\n",
    "    print(\"Feature ranking:\")\n",
    "    for i, idx in enumerate(sorted_idx):\n",
    "        print(f\"{i + 1}. Feature: {feature_names[idx]} (Importance: {importances[idx]:.4f})\")\n",
    "\n",
    "    # Plot the feature importances\n",
    "    plt.figure(figsize=(5, 3))\n",
    "    plt.title(f\"Feature Importance ({model_name})\")\n",
    "    plt.bar(range(len(sorted_idx)), importances[sorted_idx], align='center')\n",
    "    plt.xticks(range(len(sorted_idx)), feature_names[sorted_idx], rotation=90)\n",
    "    plt.tight_layout()\n",
    "    plt.show()"
   ]
  },
  {
   "cell_type": "code",
   "execution_count": 19,
   "metadata": {},
   "outputs": [],
   "source": [
    "import category_encoders as ce\n",
    "from sklearn.model_selection import train_test_split\n",
    "# Assuming 'df' is your dataset and 'PRICE RANGE' is the target column\n",
    "# Categorical features to target encode\n",
    "categorical_features = ['MAKE ORIGIN', 'BRAND', 'MODEL/CLASS', 'CAR TYPE', 'STOCK TYPE']\n",
    "\n",
    "# Define the feature and target\n",
    "X = df.drop(columns=['PRICE RANGE'])  # All features except target\n",
    "y = df['PRICE RANGE']  # Target variable\n",
    "\n",
    "# Split the data into training and test sets (important to avoid data leakage)\n",
    "X_train, X_test, y_train, y_test = train_test_split(X, y, test_size=0.2, random_state=42)\n",
    "\n",
    "# Apply Target Encoder to categorical features\n",
    "encoder = ce.TargetEncoder(cols=categorical_features)\n",
    "X_train_encoded = encoder.fit_transform(X_train[categorical_features], y_train)\n",
    "X_test_encoded = encoder.transform(X_test[categorical_features])\n",
    "\n",
    "# Replace original categorical columns with the target-encoded ones\n",
    "X_train.update(X_train_encoded)\n",
    "X_test.update(X_test_encoded)\n"
   ]
  },
  {
   "cell_type": "code",
   "execution_count": 70,
   "metadata": {
    "id": "TklDwF2Bf7jw",
    "scrolled": true
   },
   "outputs": [
    {
     "name": "stderr",
     "output_type": "stream",
     "text": [
      "/home/jwan_mardini/anaconda3/lib/python3.12/site-packages/sklearn/model_selection/_split.py:737: UserWarning: The least populated class in y has only 1 members, which is less than n_splits=5.\n",
      "  warnings.warn(\n"
     ]
    },
    {
     "name": "stdout",
     "output_type": "stream",
     "text": [
      "Random Forest Cross-validation Scores: [0.9899288  0.98962432 0.98934301 0.98878089 0.98807823]\n",
      "Random Forest Mean Accuracy: 0.99\n",
      "Random Forest Accuracy on Test Set: 0.99\n",
      "Random Forest Classification Report:\n",
      "              precision    recall  f1-score   support\n",
      "\n",
      "           0       0.98      0.98      0.98     13361\n",
      "           1       1.00      1.00      1.00     12614\n",
      "           2       0.99      0.99      0.99     14094\n",
      "           3       0.99      0.99      0.99     13301\n",
      "\n",
      "    accuracy                           0.99     53370\n",
      "   macro avg       0.99      0.99      0.99     53370\n",
      "weighted avg       0.99      0.99      0.99     53370\n",
      "\n",
      "Random Forest Confusion Matrix:\n",
      "[[13156     1   101   103]\n",
      " [    3 12558     0    53]\n",
      " [  123     0 13971     0]\n",
      " [   81    56     0 13164]]\n"
     ]
    }
   ],
   "source": [
    "from sklearn.model_selection import cross_val_score\n",
    "from sklearn.ensemble import RandomForestClassifier\n",
    "from sklearn.tree import DecisionTreeClassifier\n",
    "from sklearn.metrics import accuracy_score, classification_report, confusion_matrix\n",
    "\n",
    "# Example 1: Random Forest Classifier\n",
    "model_rf = RandomForestClassifier()\n",
    "\n",
    "# Perform 5-fold cross-validation on Random Forest\n",
    "rf_scores = cross_val_score(model_rf, X_train, y_train, cv=5, scoring='accuracy')\n",
    "\n",
    "# Output the cross-validation scores for each fold and the mean accuracy\n",
    "print(f\"Random Forest Cross-validation Scores: {rf_scores}\")\n",
    "print(f\"Random Forest Mean Accuracy: {rf_scores.mean():.2f}\")\n",
    "\n",
    "# Train and evaluate Random Forest on the train-test split\n",
    "model_rf.fit(X_train, y_train)\n",
    "y_pred_rf = model_rf.predict(X_test)\n",
    "\n",
    "# Evaluate the model\n",
    "accuracy_rf = accuracy_score(y_test, y_pred_rf)\n",
    "print(f\"Random Forest Accuracy on Test Set: {accuracy_rf:.2f}\")\n",
    "\n",
    "print(\"Random Forest Classification Report:\")\n",
    "print(classification_report(y_test, y_pred_rf))\n",
    "\n",
    "print(\"Random Forest Confusion Matrix:\")\n",
    "print(confusion_matrix(y_test, y_pred_rf))\n",
    "\n",
    "\n"
   ]
  },
  {
   "cell_type": "code",
   "execution_count": 108,
   "metadata": {},
   "outputs": [
    {
     "name": "stdout",
     "output_type": "stream",
     "text": [
      "Feature ranking:\n",
      "1. Feature: PRICE($) (Importance: 0.4637)\n",
      "2. Feature: CAR TYPE (Importance: 0.1255)\n",
      "3. Feature: MODEL/CLASS (Importance: 0.1087)\n",
      "4. Feature: BRAND (Importance: 0.0812)\n",
      "5. Feature: MILEAGE (Importance: 0.0671)\n"
     ]
    },
    {
     "data": {
      "image/png": "[encoded data removed]",
      "text/plain": [
       "<Figure size 500x300 with 1 Axes>"
      ]
     },
     "metadata": {},
     "output_type": "display_data"
    }
   ],
   "source": [
    "plot_feature_importance(model_rf, X_train, X_test, y_test, \"RF\", top_n=5)"
   ]
  },
  {
   "cell_type": "code",
   "execution_count": 74,
   "metadata": {},
   "outputs": [
    {
     "name": "stderr",
     "output_type": "stream",
     "text": [
      "/home/jwan_mardini/anaconda3/lib/python3.12/site-packages/sklearn/model_selection/_split.py:737: UserWarning: The least populated class in y has only 1 members, which is less than n_splits=5.\n",
      "  warnings.warn(\n"
     ]
    },
    {
     "name": "stdout",
     "output_type": "stream",
     "text": [
      "Decision Tree Cross-validation Scores: [0.99367622 0.99393386 0.99379318 0.9932779  0.99320764]\n",
      "Decision Tree Mean Accuracy: 0.99\n",
      "Decision Tree Accuracy on Test Set: 0.99\n",
      "Decision Tree Classification Report:\n",
      "              precision    recall  f1-score   support\n",
      "\n",
      "           0       0.99      0.99      0.99     13361\n",
      "           1       1.00      1.00      1.00     12614\n",
      "           2       0.99      0.99      0.99     14094\n",
      "           3       0.99      0.99      0.99     13301\n",
      "\n",
      "    accuracy                           0.99     53370\n",
      "   macro avg       0.99      0.99      0.99     53370\n",
      "weighted avg       0.99      0.99      0.99     53370\n",
      "\n",
      "Decision Tree Confusion Matrix:\n",
      "[[13232     0    74    55]\n",
      " [    0 12587     1    26]\n",
      " [   91     0 14003     0]\n",
      " [   55    38     0 13208]]\n"
     ]
    }
   ],
   "source": [
    "# Example 2: Decision Tree Classifier\n",
    "model_tree = DecisionTreeClassifier(criterion=\"entropy\")\n",
    "\n",
    "# Perform 5-fold cross-validation on Decision Tree\n",
    "tree_scores = cross_val_score(model_tree, X_train, y_train, cv=5, scoring='accuracy')\n",
    "\n",
    "# Output the cross-validation scores for each fold and the mean accuracy\n",
    "print(f\"Decision Tree Cross-validation Scores: {tree_scores}\")\n",
    "print(f\"Decision Tree Mean Accuracy: {tree_scores.mean():.2f}\")\n",
    "\n",
    "# Train and evaluate Decision Tree on the train-test split\n",
    "model_tree.fit(X_train, y_train)\n",
    "y_pred_tree = model_tree.predict(X_test)\n",
    "\n",
    "# Evaluate the model\n",
    "accuracy_tree = accuracy_score(y_test, y_pred_tree)\n",
    "print(f\"Decision Tree Accuracy on Test Set: {accuracy_tree:.2f}\")\n",
    "\n",
    "print(\"Decision Tree Classification Report:\")\n",
    "print(classification_report(y_test, y_pred_tree))\n",
    "\n",
    "print(\"Decision Tree Confusion Matrix:\")\n",
    "print(confusion_matrix(y_test, y_pred_tree))\n"
   ]
  },
  {
   "cell_type": "code",
   "execution_count": 110,
   "metadata": {},
   "outputs": [
    {
     "name": "stdout",
     "output_type": "stream",
     "text": [
      "Feature ranking:\n",
      "1. Feature: PRICE($) (Importance: 0.5507)\n",
      "2. Feature: CAR TYPE (Importance: 0.2952)\n",
      "3. Feature: BRAND (Importance: 0.0793)\n",
      "4. Feature: MODEL/CLASS (Importance: 0.0369)\n",
      "5. Feature: MAKE ORIGIN (Importance: 0.0330)\n"
     ]
    },
    {
     "data": {
      "image/png": "[encoded data removed]",
      "text/plain": [
       "<Figure size 500x300 with 1 Axes>"
      ]
     },
     "metadata": {},
     "output_type": "display_data"
    }
   ],
   "source": [
    "plot_feature_importance(model_tree, X_train, X_test, y_test, \"DT\", top_n=5)"
   ]
  },
  {
   "cell_type": "code",
   "execution_count": 80,
   "metadata": {},
   "outputs": [],
   "source": [
    "from sklearn.preprocessing import StandardScaler\n",
    "\n",
    "# Initialize the scaler\n",
    "scaler = StandardScaler()\n",
    "\n",
    "# Scale the features\n",
    "X_train_scaled = scaler.fit_transform(X_train)\n",
    "X_test_scaled = scaler.transform(X_test)\n"
   ]
  },
  {
   "cell_type": "code",
   "execution_count": 86,
   "metadata": {},
   "outputs": [
    {
     "name": "stderr",
     "output_type": "stream",
     "text": [
      "/home/jwan_mardini/anaconda3/lib/python3.12/site-packages/sklearn/model_selection/_split.py:737: UserWarning: The least populated class in y has only 1 members, which is less than n_splits=5.\n",
      "  warnings.warn(\n"
     ]
    },
    {
     "name": "stdout",
     "output_type": "stream",
     "text": [
      "KNN Cross-validation Scores: [0.86659172 0.86710699 0.86457431 0.86761916 0.86321583]\n",
      "KNN Mean Accuracy: 0.87\n",
      "Scaled KNN Accuracy on Test Set: 0.87\n",
      "KNN Classification Report:\n",
      "              precision    recall  f1-score   support\n",
      "\n",
      "           0       0.84      0.85      0.85     13361\n",
      "           1       0.89      0.90      0.89     12614\n",
      "           2       0.94      0.93      0.93     14094\n",
      "           3       0.82      0.82      0.82     13301\n",
      "\n",
      "    accuracy                           0.87     53370\n",
      "   macro avg       0.87      0.87      0.87     53370\n",
      "weighted avg       0.87      0.87      0.87     53370\n",
      "\n",
      "KNN Confusion Matrix:\n",
      "[[11390   115   763  1093]\n",
      " [   62 11373     4  1175]\n",
      " [  938    35 13054    67]\n",
      " [ 1104  1313    37 10847]]\n"
     ]
    }
   ],
   "source": [
    "from sklearn.model_selection import cross_val_score\n",
    "from sklearn.neighbors import KNeighborsClassifier\n",
    "from sklearn.metrics import accuracy_score, classification_report, confusion_matrix\n",
    "\n",
    "# Initialize the KNN classifier\n",
    "knn = KNeighborsClassifier(n_neighbors=5)  # You can tune the 'n_neighbors' parameter\n",
    "\n",
    "# Perform 5-fold cross-validation on KNN\n",
    "knn_scores = cross_val_score(knn, X_train_scaled, y_train, cv=5, scoring='accuracy')\n",
    "\n",
    "# Output the cross-validation scores for each fold and the mean accuracy\n",
    "print(f\"KNN Cross-validation Scores: {knn_scores}\")\n",
    "print(f\"KNN Mean Accuracy: {knn_scores.mean():.2f}\")\n",
    "\n",
    "# Train and evaluate KNN on the train-test split\n",
    "knn.fit(X_train_scaled, y_train)\n",
    "y_pred_knn_scaled = knn.predict(X_test_scaled)\n",
    "\n",
    "# Evaluate the scaled model\n",
    "accuracy_scaled = accuracy_score(y_test, y_pred_knn_scaled)\n",
    "print(f\"Scaled KNN Accuracy on Test Set: {accuracy_scaled:.2f}\")\n",
    "\n",
    "# Detailed classification report and confusion matrix\n",
    "print(\"KNN Classification Report:\")\n",
    "print(classification_report(y_test, y_pred_knn_scaled))\n",
    "\n",
    "print(\"KNN Confusion Matrix:\")\n",
    "print(confusion_matrix(y_test, y_pred_knn_scaled))\n"
   ]
  },
  {
   "cell_type": "code",
   "execution_count": 56,
   "metadata": {},
   "outputs": [
    {
     "name": "stdout",
     "output_type": "stream",
     "text": [
      "Fitting 5 folds for each of 36 candidates, totalling 180 fits\n"
     ]
    },
    {
     "name": "stderr",
     "output_type": "stream",
     "text": [
      "/home/jwan_mardini/anaconda3/lib/python3.12/site-packages/sklearn/model_selection/_split.py:737: UserWarning: The least populated class in y has only 1 members, which is less than n_splits=5.\n",
      "  warnings.warn(\n"
     ]
    },
    {
     "name": "stdout",
     "output_type": "stream",
     "text": [
      "Best Parameters: {'metric': 'manhattan', 'n_neighbors': 9, 'weights': 'distance'}\n",
      "KNN Classification Report after Fine-Tuning:\n",
      "              precision    recall  f1-score   support\n",
      "\n",
      "           0       0.88      0.88      0.88     13361\n",
      "           1       0.91      0.92      0.91     12614\n",
      "           2       0.95      0.94      0.95     14094\n",
      "           3       0.85      0.86      0.85     13301\n",
      "\n",
      "    accuracy                           0.90     53370\n",
      "   macro avg       0.90      0.90      0.90     53370\n",
      "weighted avg       0.90      0.90      0.90     53370\n",
      "\n",
      "KNN Confusion Matrix after Fine-Tuning:\n",
      "[[11716    82   600   963]\n",
      " [   31 11591     1   991]\n",
      " [  733    30 13263    68]\n",
      " [  815  1063    25 11398]]\n"
     ]
    }
   ],
   "source": [
    "from sklearn.neighbors import KNeighborsClassifier\n",
    "from sklearn.model_selection import GridSearchCV\n",
    "from sklearn.metrics import classification_report, confusion_matrix\n",
    "\n",
    "# Define the parameter grid for KNN\n",
    "param_grid = {\n",
    "    'n_neighbors': [3, 5, 7, 9, 11, 13],   # Different values for number of neighbors\n",
    "    'weights': ['uniform', 'distance'],    # Weight function (uniform or distance-based)\n",
    "    'metric': ['euclidean', 'manhattan', 'minkowski']  # Distance metrics to try\n",
    "}\n",
    "\n",
    "# Initialize the KNN model\n",
    "knn = KNeighborsClassifier()\n",
    "\n",
    "# Use GridSearchCV to search for the best parameters\n",
    "grid_search = GridSearchCV(knn, param_grid, cv=5, scoring='accuracy', verbose=1)\n",
    "grid_search.fit(X_train_scaled, y_train)\n",
    "\n",
    "# Output the best parameters\n",
    "print(f\"Best Parameters: {grid_search.best_params_}\")\n",
    "\n",
    "# Use the best model to make predictions on the test set\n",
    "best_knn = grid_search.best_estimator_\n",
    "y_pred_knn = best_knn.predict(X_test_scaled)\n",
    "\n",
    "# Evaluate the fine-tuned KNN model\n",
    "print(\"KNN Classification Report after Fine-Tuning:\")\n",
    "print(classification_report(y_test, y_pred_knn))\n",
    "print(\"KNN Confusion Matrix after Fine-Tuning:\")\n",
    "print(confusion_matrix(y_test, y_pred_knn))\n"
   ]
  }
 ],
 "metadata": {
  "colab": {
   "provenance": []
  },
  "kernelspec": {
   "display_name": "Python 3 (ipykernel)",
   "language": "python",
   "name": "python3"
  },
  "language_info": {
   "codemirror_mode": {
    "name": "ipython",
    "version": 3
   },
   "file_extension": ".py",
   "mimetype": "text/x-python",
   "name": "python",
   "nbconvert_exporter": "python",
   "pygments_lexer": "ipython3",
   "version": "3.12.4"
  }
 },
 "nbformat": 4,
 "nbformat_minor": 4
}
